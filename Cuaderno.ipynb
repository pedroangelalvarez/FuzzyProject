{
 "cells": [
  {
   "cell_type": "code",
   "execution_count": null,
   "metadata": {},
   "outputs": [],
   "source": [
    "%pylab inline"
   ]
  },
  {
   "cell_type": "code",
   "execution_count": null,
   "metadata": {},
   "outputs": [],
   "source": [
    "import numpy as np\n",
    "import skfuzzy as fuzz"
   ]
  },
  {
   "cell_type": "code",
   "execution_count": null,
   "metadata": {},
   "outputs": [],
   "source": [
    "temp = np.arange(-10, 51, 1)\n",
    "customers = np.arange(0, 100, 1)\n",
    "\n",
    "#FUZZIFICATION\n",
    "t_hot = fuzz.trimf(temp, [22, 50, 50])\n",
    "t_moderate = fuzz.trimf(temp, [8, 22, 36])\n",
    "t_cool = fuzz.trimf(temp, [-11, -10, 22])\n",
    "\n",
    "c_crowded = fuzz.trimf(customers, [55, 100, 101])\n",
    "c_busy = fuzz.trimf(customers, [0, 60, 100])\n",
    "c_quiet = fuzz.trimf(customers, [0, 0, 55])"
   ]
  },
  {
   "cell_type": "code",
   "execution_count": null,
   "metadata": {},
   "outputs": [],
   "source": [
    "fig, ax = plt.subplots()\n",
    "\n",
    "ax.plot(temp, t_hot, 'r', temp, t_moderate, 'm', temp, t_cool, 'b')\n",
    "ax.set_ylabel('Fuzzy membership')\n",
    "ax.set_xlabel('Temp (Celcius)')\n",
    "ax.set_ylim(-0.05, 1.05);"
   ]
  },
  {
   "cell_type": "code",
   "execution_count": null,
   "metadata": {},
   "outputs": [],
   "source": [
    "fig, ax = plt.subplots()\n",
    "\n",
    "ax.plot(customers, c_quiet, 'c', customers, c_busy, 'm', customers, c_crowded, 'ForestGreen')\n",
    "ax.set_ylabel('Fuzzy membership')\n",
    "ax.set_xlabel('Number of Customers')\n",
    "ax.set_ylim(-0.05, 1.05);"
   ]
  },
  {
   "cell_type": "code",
   "execution_count": null,
   "metadata": {},
   "outputs": [],
   "source": [
    "R1 = fuzz.relation_min(t_hot, c_quiet)\n",
    "R2 = fuzz.relation_min(t_moderate, c_crowded)\n",
    "R3 = fuzz.relation_min(t_cool, c_busy)\n",
    "\n",
    "R_combined = np.fmax(R1, np.fmax(R2, R3))"
   ]
  },
  {
   "cell_type": "code",
   "execution_count": null,
   "metadata": {},
   "outputs": [],
   "source": [
    "#DEFUZZIFICATION\n",
    "fuzz.defuzz(customers, R_combined[temp == 50], 'centroid')"
   ]
  },
  {
   "cell_type": "code",
   "execution_count": null,
   "metadata": {},
   "outputs": [],
   "source": [
    "predicted_customers = np.zeros_like(temp)\n",
    "\n",
    "for i in range(len(predicted_customers)):\n",
    "    predicted_customers[i] = fuzz.defuzz(customers, R_combined[i, :], 'centroid')"
   ]
  },
  {
   "cell_type": "code",
   "execution_count": null,
   "metadata": {},
   "outputs": [],
   "source": [
    "plt.plot(temp, predicted_customers)\n",
    "plt.xlabel('Temperature')\n",
    "plt.ylabel('Customers');"
   ]
  },
  {
   "cell_type": "code",
   "execution_count": null,
   "metadata": {},
   "outputs": [],
   "source": [
    "t_hot = fuzz.trimf(temp, [22, 50, 50])\n",
    "t_moderate = fuzz.trimf(temp, [8, 22, 36])\n",
    "t_cool = fuzz.trimf(temp, [6, 12, 22])\n",
    "t_vcool = fuzz.trimf(temp, [-11, -10, 8])\n",
    "\n",
    "\n",
    "fig, ax = plt.subplots()\n",
    "\n",
    "ax.plot(temp, t_hot, 'r', temp, t_moderate, 'm', temp, t_cool, 'b', temp, t_vcool, 'cyan')\n",
    "ax.set_ylabel('Fuzzy membership')\n",
    "ax.set_xlabel('Temprature')\n",
    "ax.set_ylim(-0.05, 1.05);"
   ]
  },
  {
   "cell_type": "code",
   "execution_count": null,
   "metadata": {},
   "outputs": [],
   "source": [
    "R1 = fuzz.relation_min(t_hot, c_quiet)\n",
    "R2 = fuzz.relation_min(t_moderate, c_crowded)\n",
    "R3 = fuzz.relation_min(t_cool, c_busy)\n",
    "R4 = fuzz.relation_min(t_vcool, c_quiet)\n",
    "\n",
    "R_combined = np.fmax(R4, np.fmax(R1, np.fmax(R2, R3)))"
   ]
  },
  {
   "cell_type": "code",
   "execution_count": null,
   "metadata": {},
   "outputs": [],
   "source": [
    "predicted_customers = np.zeros_like(temp)\n",
    "\n",
    "for i in range(len(predicted_customers)):\n",
    "    predicted_customers[i] = fuzz.defuzz(customers, R_combined[i, :], 'centroid')\n",
    "    \n",
    "plt.plot(temp, predicted_customers)\n",
    "plt.xlabel('Temperature')\n",
    "plt.ylabel('Customers');"
   ]
  },
  {
   "cell_type": "code",
   "execution_count": null,
   "metadata": {},
   "outputs": [],
   "source": [
    "fuzz.defuzz(customers, R_combined[temp == -10], 'centroid')"
   ]
  },
  {
   "cell_type": "code",
   "execution_count": null,
   "metadata": {},
   "outputs": [],
   "source": [
    "R1 = fuzz.relation_product(t_hot, c_quiet)\n",
    "R2 = fuzz.relation_product(t_moderate, c_crowded)\n",
    "R3 = fuzz.relation_product(t_cool, c_busy)\n",
    "R4 = fuzz.relation_product(t_vcool, c_quiet)\n",
    "\n",
    "R_combined = np.fmax(R4, np.fmax(R1, np.fmax(R2, R3)))\n",
    "\n",
    "predicted_customers = np.zeros_like(temp)\n",
    "\n",
    "for i in range(len(predicted_customers)):\n",
    "    predicted_customers[i] = fuzz.defuzz(customers, R_combined[i, :], 'centroid')\n",
    "    \n",
    "plt.plot(temp, predicted_customers)\n",
    "plt.xlabel('Temperature')\n",
    "plt.ylabel('Customers');"
   ]
  }
 ],
 "metadata": {
  "interpreter": {
   "hash": "63fd5069d213b44bf678585dea6b12cceca9941eaf7f819626cde1f2670de90d"
  },
  "kernelspec": {
   "display_name": "Python 3.9.4 64-bit",
   "language": "python",
   "name": "python3"
  },
  "language_info": {
   "codemirror_mode": {
    "name": "ipython",
    "version": 3
   },
   "file_extension": ".py",
   "mimetype": "text/x-python",
   "name": "python",
   "nbconvert_exporter": "python",
   "pygments_lexer": "ipython3",
   "version": "3.9.4"
  },
  "orig_nbformat": 4
 },
 "nbformat": 4,
 "nbformat_minor": 2
}
